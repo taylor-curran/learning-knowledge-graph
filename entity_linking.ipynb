{
 "cells": [
  {
   "cell_type": "code",
   "execution_count": 7,
   "metadata": {},
   "outputs": [],
   "source": [
    "# Import Text Data\n",
    "\n",
    "rpc = \"\"\"\n",
    "Curran International coated tube applications are globally known to prevent fouling in heat exchangers. For more than 25 years Curran’s proprietary applications of a low surface energy tube ID coatings have eliminated deposit nucleation down tube, reducing heat exchanger fouling and cleaning.\n",
    "Using highly functional immersion service coatings Curran applies a thin film, homogenous film down tube. The coated tube has a greatly reduced surface tension compared to uncoated steel and is inert to cooling water. Curran coatings are hydrophobic and create a high contact angle; immersion resistance to 365F gives the Curran coatings durability to periodic operating unit steam out.\n",
    "For cooling water, tube coating protects from deposit corrosion, and Curran delivers a “holiday free” application at 200 to 300 microns total thickness. Curran applies heat exchanger coating to shell & tube exchangers, tube bundles, U tube and plate and frame exchangers. Tube sheet coating – as part of the Curran tube coating application – protects tube ends, and the integrity of the roller expanded tube joint.\n",
    "Refinery and petrochemical clients have found exchanger tube ID coatings can immediately solve “bad actor” exchanger reliability where low flow, deposit accumulation limit the functional life of an asset. Curran heat exchanger internal coatings are specified as a value add for replacement exchangers, and are a lower cost option compared to an alloy upgrade.\n",
    "Curran has continued to develop its portfolio of thin film coating materials suited to a wide range of industrial services; cooling water, crude and hydrocarbon products, solvent and acid services. Sol Gel and hybrid materials are functional at < 25 microns total thickness. These ultra-thin applications are solutions for operation critical exchangers where crude and hydrocarbon services are primary causes of fouling in heat exchangers and can be applied to exchanger tube IDs, ODs and plate and frame exchangers.\n",
    "Curran can identify the best coating for operating unit conditions, and provide an application procedure and quality control report for surface prep, coating application, and inspection. The coated tube ID application is performed after the exchanger has been fabricated, the complete exchanger or tube bundle is coated, either at one of Curran’s global coating plants or in the field.\n",
    "Restoration of in-service, corroded exchangers is a practical repair strategy that Curran has years of successful project experience. It starts with “clean white metal” surface prep of exchanger, and remediation of soluble contaminants. Many of Curran tube coatings can be field applied, and force cured.\n",
    "The benefits of tube ID coating are known by refinery and petrochemical clients across the globe. Refinery bad actor bundles are likely poor performing exchangers due to the effects of fouling in heat exchangers. Equipment engineers specified heat exchanger coating to replace “in-kind” fabricated tube bundles using Curran tube ID coating; benefits were found in years of reduced maintenance, continuous operation run, and improved operating reliability.\n",
    "Curran is at the forefront of material and application technology development using advanced polymers and inorganic/hybrid coatings. Ultra thin (<25 micron) applications are solutions for operation critical exchangers where crude and hydrocarbon services are primary causes of fouling in heat exchangers. These new advanced technologies can be applied to exchanger tube IDs, ODs and plate and frame exchangers.\n",
    "All heat exchanger internal coating applications are subject to Curran quality control, and inspection observation and record points. We coat shell & tube exchanger bundles, air coolers, U tube and plate and frame exchangers; provide in-service exchange tube ID restoration; tube end coating, plate exchangers, OD tube coating; in-situ and field coating applications.\n",
    "Curran has mastered surface prep and application methods for coating in-service exchangers, this technique is used to restore exchangers for continued service. Curran can achieve NACE 1 white metal cleanliness of in-service exchanger tubes, and its application methods satisfy holiday spark testing requirements – even in pitted tubes. A homogeneous thin film coated tube mitigates fouling in heat exchangers and prevents tube ID corrosion.\n",
    "\"\"\""
   ]
  },
  {
   "cell_type": "code",
   "execution_count": 5,
   "metadata": {},
   "outputs": [
    {
     "name": "stdout",
     "output_type": "stream",
     "text": [
      "Named Entity 'Curran International' with label 'ORG'\n",
      "Named Entity 'more than 25 years' with label 'DATE'\n",
      "Named Entity 'Curran' with label 'PERSON'\n"
     ]
    }
   ],
   "source": [
    "# Set Up spaCy\n",
    "import spacy\n",
    "text = rpc[:200]\n",
    "doc = nlp(text)\n",
    "for ent in doc.ents:\n",
    "    print(f\"Named Entity '{ent.text}' with label '{ent.label_}'\")\n",
    "    \n",
    "# To make this work for Curran, I probablywould need to 'add a class' to spaCy's\n",
    "# entity recoginition system and update the model with industrial process\n",
    "# examples."
   ]
  },
  {
   "cell_type": "code",
   "execution_count": 6,
   "metadata": {},
   "outputs": [
    {
     "name": "stdout",
     "output_type": "stream",
     "text": [
      "Named Entity 'Emerson' with label 'PERSON'\n",
      "Named Entity 'Wimbledon' with label 'ORG'\n"
     ]
    }
   ],
   "source": [
    "# Set Up spaCy\n",
    "import spacy\n",
    "nlp = spacy.load(\"en_core_web_lg\")\n",
    "text = \"Tennis champion Emerson was expected to win Wimbledon.\"\n",
    "doc = nlp(text)\n",
    "for ent in doc.ents:\n",
    "    print(f\"Named Entity '{ent.text}' with label '{ent.label_}'\")"
   ]
  },
  {
   "cell_type": "code",
   "execution_count": 1,
   "metadata": {},
   "outputs": [],
   "source": [
    "# Load Data"
   ]
  },
  {
   "cell_type": "code",
   "execution_count": null,
   "metadata": {},
   "outputs": [],
   "source": [
    "import spacy\n",
    "from spacy.kb import KnowledgeBase\n",
    "\n",
    "import csv\n",
    "from pthlib import Path\n",
    "\n",
    "def load_entities():\n",
    "    output_dir = Path.cwd().parent / \"output\""
   ]
  }
 ],
 "metadata": {
  "kernelspec": {
   "display_name": "venv",
   "language": "python",
   "name": "venv"
  },
  "language_info": {
   "codemirror_mode": {
    "name": "ipython",
    "version": 3
   },
   "file_extension": ".py",
   "mimetype": "text/x-python",
   "name": "python",
   "nbconvert_exporter": "python",
   "pygments_lexer": "ipython3",
   "version": "3.8.1"
  }
 },
 "nbformat": 4,
 "nbformat_minor": 4
}
